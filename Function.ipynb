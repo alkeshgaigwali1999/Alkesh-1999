{
 "cells": [
  {
   "cell_type": "markdown",
   "id": "b8d68392",
   "metadata": {},
   "source": [
    "# Function "
   ]
  },
  {
   "cell_type": "code",
   "execution_count": 26,
   "id": "c282ba89",
   "metadata": {},
   "outputs": [],
   "source": [
    "def my_function():\n",
    "    print(\"hello from a function\")"
   ]
  },
  {
   "cell_type": "code",
   "execution_count": 27,
   "id": "12113392",
   "metadata": {},
   "outputs": [
    {
     "name": "stdout",
     "output_type": "stream",
     "text": [
      "hello from a function\n"
     ]
    }
   ],
   "source": [
    "my_function()"
   ]
  },
  {
   "cell_type": "code",
   "execution_count": 28,
   "id": "3c97847e",
   "metadata": {},
   "outputs": [],
   "source": [
    "def my_function(f1,f2,f3):\n",
    "    joint_name = f'{f1},{f2},{f3}'\n",
    "    result = {'name1':f1,'name2':f2,'name3':f3}\n",
    "    return result"
   ]
  },
  {
   "cell_type": "code",
   "execution_count": 31,
   "id": "65e11076",
   "metadata": {},
   "outputs": [],
   "source": [
    "f1 = \"c1\"\n",
    "f2 = \"c2\"\n",
    "f3 = \"c3\"\n",
    "output = my_function(f1,f2,f3)"
   ]
  },
  {
   "cell_type": "code",
   "execution_count": 32,
   "id": "7c6ac54a",
   "metadata": {},
   "outputs": [
    {
     "name": "stdout",
     "output_type": "stream",
     "text": [
      "{'name1': 'c1', 'name2': 'c2', 'name3': 'c3'}\n"
     ]
    }
   ],
   "source": [
    "print(output)"
   ]
  },
  {
   "cell_type": "code",
   "execution_count": null,
   "id": "e2e35dad",
   "metadata": {},
   "outputs": [],
   "source": []
  }
 ],
 "metadata": {
  "kernelspec": {
   "display_name": "Python 3 (ipykernel)",
   "language": "python",
   "name": "python3"
  },
  "language_info": {
   "codemirror_mode": {
    "name": "ipython",
    "version": 3
   },
   "file_extension": ".py",
   "mimetype": "text/x-python",
   "name": "python",
   "nbconvert_exporter": "python",
   "pygments_lexer": "ipython3",
   "version": "3.11.5"
  }
 },
 "nbformat": 4,
 "nbformat_minor": 5
}
