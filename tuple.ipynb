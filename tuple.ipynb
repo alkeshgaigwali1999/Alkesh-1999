{
 "cells": [
  {
   "cell_type": "markdown",
   "id": "7dc3fbe0",
   "metadata": {},
   "source": [
    "# Indexing"
   ]
  },
  {
   "cell_type": "markdown",
   "id": "9ec4fb3b",
   "metadata": {},
   "source": [
    "Access individual elements of a tuple using square brackets []"
   ]
  },
  {
   "cell_type": "code",
   "execution_count": 15,
   "id": "450bb31c",
   "metadata": {},
   "outputs": [
    {
     "data": {
      "text/plain": [
       "(12, 27, 39, 64, 95)"
      ]
     },
     "execution_count": 15,
     "metadata": {},
     "output_type": "execute_result"
    }
   ],
   "source": [
    "my_tuple = (12, 27, 39, 64, 95)\n",
    "my_tuple"
   ]
  },
  {
   "cell_type": "code",
   "execution_count": 16,
   "id": "669d9e29",
   "metadata": {},
   "outputs": [
    {
     "name": "stdout",
     "output_type": "stream",
     "text": [
      "12\n"
     ]
    }
   ],
   "source": [
    "print(my_tuple[0]) "
   ]
  },
  {
   "cell_type": "markdown",
   "id": "84236681",
   "metadata": {},
   "source": [
    "# Slicing"
   ]
  },
  {
   "cell_type": "markdown",
   "id": "c0a4cdc6",
   "metadata": {},
   "source": [
    "Extract a subset of elements from a tuple."
   ]
  },
  {
   "cell_type": "code",
   "execution_count": 17,
   "id": "576936cf",
   "metadata": {},
   "outputs": [
    {
     "data": {
      "text/plain": [
       "(10, 25, 35, 4, 5)"
      ]
     },
     "execution_count": 17,
     "metadata": {},
     "output_type": "execute_result"
    }
   ],
   "source": [
    "my_tuple = (10, 25, 35, 4, 5)\n",
    "my_tuple"
   ]
  },
  {
   "cell_type": "code",
   "execution_count": 18,
   "id": "b5c02c6d",
   "metadata": {},
   "outputs": [
    {
     "name": "stdout",
     "output_type": "stream",
     "text": [
      "(25, 35, 4)\n"
     ]
    }
   ],
   "source": [
    "print(my_tuple[1:4]) "
   ]
  },
  {
   "cell_type": "markdown",
   "id": "81d46068",
   "metadata": {},
   "source": [
    "# Length"
   ]
  },
  {
   "cell_type": "markdown",
   "id": "8497e2b7",
   "metadata": {},
   "source": [
    "Get the number of elements in a tuple using the len() function."
   ]
  },
  {
   "cell_type": "code",
   "execution_count": 19,
   "id": "7776fe85",
   "metadata": {},
   "outputs": [
    {
     "data": {
      "text/plain": [
       "(189, 27, 93, 44, 57, 94, 89, 89)"
      ]
     },
     "execution_count": 19,
     "metadata": {},
     "output_type": "execute_result"
    }
   ],
   "source": [
    "my_tuple = (189, 27, 93, 44, 57,94,89,89,)\n",
    "my_tuple"
   ]
  },
  {
   "cell_type": "code",
   "execution_count": 20,
   "id": "042240f6",
   "metadata": {},
   "outputs": [
    {
     "name": "stdout",
     "output_type": "stream",
     "text": [
      "8\n"
     ]
    }
   ],
   "source": [
    "print(len(my_tuple)) "
   ]
  },
  {
   "cell_type": "markdown",
   "id": "67533c4d",
   "metadata": {},
   "source": [
    "# Concatenation"
   ]
  },
  {
   "cell_type": "markdown",
   "id": "8460fc39",
   "metadata": {},
   "source": [
    "Concatenate two tuples using the + operator."
   ]
  },
  {
   "cell_type": "code",
   "execution_count": 21,
   "id": "76434474",
   "metadata": {},
   "outputs": [
    {
     "name": "stdout",
     "output_type": "stream",
     "text": [
      "(1, 2, 3, 4, 5, 6, 7, 8, 9, 10, 11, 12, 13, 14, 15, 16, 17, 18, 19, 20)\n"
     ]
    }
   ],
   "source": [
    "tuple1 = (1, 2, 3,4,5,6,7,8,9)\n",
    "tuple2 = (10,11,12,13,14,15,16,17,18,19,20)\n",
    "concatenated_tuple = tuple1 + tuple2\n",
    "print(concatenated_tuple)  # Output: (1, 2, 3, 4, 5, 6, 7, 8, 9, 10, 11, 12, 13, 14, 15, 16, 17, 18, 19, 20)"
   ]
  },
  {
   "cell_type": "markdown",
   "id": "fca647d7",
   "metadata": {},
   "source": [
    "# Repetition"
   ]
  },
  {
   "cell_type": "markdown",
   "id": "6c9070a5",
   "metadata": {},
   "source": [
    "Repeat a tuple for a given number of times using the * operator.\n"
   ]
  },
  {
   "cell_type": "code",
   "execution_count": 8,
   "id": "2a0222eb",
   "metadata": {},
   "outputs": [
    {
     "data": {
      "text/plain": [
       "(1, 2, 3, 4, 5)"
      ]
     },
     "execution_count": 8,
     "metadata": {},
     "output_type": "execute_result"
    }
   ],
   "source": [
    "my_tuple = (1, 2, 3, 4, 5)\n",
    "my_tuple"
   ]
  },
  {
   "cell_type": "code",
   "execution_count": 9,
   "id": "28ac53fe",
   "metadata": {},
   "outputs": [
    {
     "name": "stdout",
     "output_type": "stream",
     "text": [
      "(1, 2, 3, 4, 5, 1, 2, 3, 4, 5)\n"
     ]
    }
   ],
   "source": [
    "repeated_tuple = my_tuple * 2\n",
    "print(repeated_tuple)  "
   ]
  },
  {
   "cell_type": "markdown",
   "id": "d776b2b4",
   "metadata": {},
   "source": [
    "# Count"
   ]
  },
  {
   "cell_type": "markdown",
   "id": "f9584339",
   "metadata": {},
   "source": [
    "Count the occurrences of a specific element in a tuple using the count() method."
   ]
  },
  {
   "cell_type": "code",
   "execution_count": 10,
   "id": "25301b4c",
   "metadata": {},
   "outputs": [
    {
     "data": {
      "text/plain": [
       "(1, 2, 3, 4, 5)"
      ]
     },
     "execution_count": 10,
     "metadata": {},
     "output_type": "execute_result"
    }
   ],
   "source": [
    "my_tuple = (1, 2, 3, 4, 5)\n",
    "my_tuple"
   ]
  },
  {
   "cell_type": "code",
   "execution_count": 11,
   "id": "5966ed2e",
   "metadata": {},
   "outputs": [
    {
     "name": "stdout",
     "output_type": "stream",
     "text": [
      "1\n"
     ]
    }
   ],
   "source": [
    "print(my_tuple.count(3))"
   ]
  },
  {
   "cell_type": "markdown",
   "id": "830d61b2",
   "metadata": {},
   "source": [
    "# SORTED"
   ]
  },
  {
   "cell_type": "markdown",
   "id": "73133dd8",
   "metadata": {},
   "source": [
    "this method takes a tuple as an input and returns a sorted list as an output"
   ]
  },
  {
   "cell_type": "code",
   "execution_count": 12,
   "id": "c546ff66",
   "metadata": {},
   "outputs": [
    {
     "data": {
      "text/plain": [
       "(22, 3, 35, 4, 2.4, 2, 56, 90, 1)"
      ]
     },
     "execution_count": 12,
     "metadata": {},
     "output_type": "execute_result"
    }
   ],
   "source": [
    "my_tuple = (22,3, 35, 4,2.4,2,56,90,1)\n",
    "my_tuple"
   ]
  },
  {
   "cell_type": "code",
   "execution_count": 13,
   "id": "ed17d5c4",
   "metadata": {},
   "outputs": [],
   "source": [
    "my_tuple1 = sorted(my_tuple)"
   ]
  },
  {
   "cell_type": "code",
   "execution_count": 14,
   "id": "50111592",
   "metadata": {},
   "outputs": [
    {
     "data": {
      "text/plain": [
       "[1, 2, 2.4, 3, 4, 22, 35, 56, 90]"
      ]
     },
     "execution_count": 14,
     "metadata": {},
     "output_type": "execute_result"
    }
   ],
   "source": [
    "my_tuple1"
   ]
  },
  {
   "cell_type": "code",
   "execution_count": null,
   "id": "7476bda2",
   "metadata": {},
   "outputs": [],
   "source": []
  }
 ],
 "metadata": {
  "kernelspec": {
   "display_name": "Python 3 (ipykernel)",
   "language": "python",
   "name": "python3"
  },
  "language_info": {
   "codemirror_mode": {
    "name": "ipython",
    "version": 3
   },
   "file_extension": ".py",
   "mimetype": "text/x-python",
   "name": "python",
   "nbconvert_exporter": "python",
   "pygments_lexer": "ipython3",
   "version": "3.12.2"
  }
 },
 "nbformat": 4,
 "nbformat_minor": 5
}
