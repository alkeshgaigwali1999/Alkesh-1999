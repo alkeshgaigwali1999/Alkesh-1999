{
 "cells": [
  {
   "cell_type": "markdown",
   "id": "89e72707",
   "metadata": {},
   "source": [
    "# DICTIONARY"
   ]
  },
  {
   "cell_type": "markdown",
   "id": "50f92b9a-a7f2-484a-94b3-9034b923f801",
   "metadata": {},
   "source": [
    "# COPY \n",
    "Make a copy of a dictionary with the copy() method"
   ]
  },
  {
   "cell_type": "code",
   "execution_count": 2,
   "id": "0cdff19d",
   "metadata": {},
   "outputs": [],
   "source": [
    "student = {'name':'alkesh',\n",
    "           'result':'pass',\n",
    "           'year':'2020'\n",
    "          }"
   ]
  },
  {
   "cell_type": "code",
   "execution_count": 3,
   "id": "fc2de494",
   "metadata": {},
   "outputs": [
    {
     "data": {
      "text/plain": [
       "{'name': 'alkesh', 'result': 'pass', 'year': '2020'}"
      ]
     },
     "execution_count": 3,
     "metadata": {},
     "output_type": "execute_result"
    }
   ],
   "source": [
    "student"
   ]
  },
  {
   "cell_type": "code",
   "execution_count": 4,
   "id": "f67b5e69",
   "metadata": {},
   "outputs": [],
   "source": [
    "student = student.copy()"
   ]
  },
  {
   "cell_type": "code",
   "execution_count": 5,
   "id": "9d8debdb",
   "metadata": {},
   "outputs": [
    {
     "data": {
      "text/plain": [
       "{'name': 'alkesh', 'result': 'pass', 'year': '2020'}"
      ]
     },
     "execution_count": 5,
     "metadata": {},
     "output_type": "execute_result"
    }
   ],
   "source": [
    "student"
   ]
  },
  {
   "cell_type": "markdown",
   "id": "5b8a9803-ee7b-4714-a8bd-01b1b6b89ada",
   "metadata": {},
   "source": [
    "# FROMKEYS\n",
    "Returns a dictionary with the specified keys and values."
   ]
  },
  {
   "cell_type": "code",
   "execution_count": 7,
   "id": "7ed569b1",
   "metadata": {},
   "outputs": [],
   "source": [
    "x = ('ab1','ab2','ab3')\n",
    "y = 0"
   ]
  },
  {
   "cell_type": "code",
   "execution_count": 8,
   "id": "d5cc09a4",
   "metadata": {},
   "outputs": [],
   "source": [
    "xy = dict.fromkeys(x,y)\n",
    "\n"
   ]
  },
  {
   "cell_type": "code",
   "execution_count": 9,
   "id": "7ef4a64e",
   "metadata": {},
   "outputs": [
    {
     "data": {
      "text/plain": [
       "{'ab1': 0, 'ab2': 0, 'ab3': 0}"
      ]
     },
     "execution_count": 9,
     "metadata": {},
     "output_type": "execute_result"
    }
   ],
   "source": [
    "xy"
   ]
  },
  {
   "cell_type": "markdown",
   "id": "718332af",
   "metadata": {},
   "source": [
    "without specified keys and values."
   ]
  },
  {
   "cell_type": "code",
   "execution_count": 10,
   "id": "0be7bd6b",
   "metadata": {},
   "outputs": [],
   "source": [
    "x = ('ab1','ab2','ab3')"
   ]
  },
  {
   "cell_type": "code",
   "execution_count": 11,
   "id": "a0416042",
   "metadata": {},
   "outputs": [],
   "source": [
    "x = dict.fromkeys(x)"
   ]
  },
  {
   "cell_type": "code",
   "execution_count": 12,
   "id": "4134cb2b",
   "metadata": {},
   "outputs": [
    {
     "data": {
      "text/plain": [
       "{'ab1': None, 'ab2': None, 'ab3': None}"
      ]
     },
     "execution_count": 12,
     "metadata": {},
     "output_type": "execute_result"
    }
   ],
   "source": [
    "x"
   ]
  },
  {
   "cell_type": "markdown",
   "id": "bf6dcdd1-ffeb-472c-811e-7807f08ee564",
   "metadata": {},
   "source": [
    "# GET\n",
    "the get() method return the value of the item with the specified keys."
   ]
  },
  {
   "cell_type": "code",
   "execution_count": 21,
   "id": "77ea8cd8",
   "metadata": {},
   "outputs": [],
   "source": [
    "student = {'name':'alkesh',\n",
    "           'result':'pass',\n",
    "           'year':'2023'\n",
    "          }"
   ]
  },
  {
   "cell_type": "code",
   "execution_count": 22,
   "id": "bbb2ce3a",
   "metadata": {},
   "outputs": [],
   "source": [
    "student = student.get('result')"
   ]
  },
  {
   "cell_type": "code",
   "execution_count": 23,
   "id": "6b662111",
   "metadata": {},
   "outputs": [
    {
     "data": {
      "text/plain": [
       "'pass'"
      ]
     },
     "execution_count": 23,
     "metadata": {},
     "output_type": "execute_result"
    }
   ],
   "source": [
    "student"
   ]
  },
  {
   "cell_type": "code",
   "execution_count": 24,
   "id": "f9b336e9",
   "metadata": {},
   "outputs": [],
   "source": [
    "student = {'name':'alkesh',\n",
    "           'result':'pass',\n",
    "           'year':'2023'\n",
    "          }"
   ]
  },
  {
   "cell_type": "code",
   "execution_count": 25,
   "id": "b96a5046",
   "metadata": {},
   "outputs": [],
   "source": [
    "student = student.get('year')"
   ]
  },
  {
   "cell_type": "code",
   "execution_count": 26,
   "id": "62e73a63",
   "metadata": {},
   "outputs": [
    {
     "data": {
      "text/plain": [
       "'2023'"
      ]
     },
     "execution_count": 26,
     "metadata": {},
     "output_type": "execute_result"
    }
   ],
   "source": [
    "student"
   ]
  },
  {
   "cell_type": "markdown",
   "id": "0643f187-72ed-4b18-804f-b004ad1062cc",
   "metadata": {},
   "source": [
    "# ITEMS\n",
    "The items() method returns a view object.the view object contains the key-values pairs of the dictionary ."
   ]
  },
  {
   "cell_type": "code",
   "execution_count": 27,
   "id": "2f3af211",
   "metadata": {},
   "outputs": [],
   "source": [
    "student = {'name':'alkesh',\n",
    "           'result':'pass',\n",
    "           'year':'2023'\n",
    "          }"
   ]
  },
  {
   "cell_type": "code",
   "execution_count": 28,
   "id": "feef0515",
   "metadata": {},
   "outputs": [
    {
     "data": {
      "text/plain": [
       "{'name': 'alkesh', 'result': 'pass', 'year': '2023'}"
      ]
     },
     "execution_count": 28,
     "metadata": {},
     "output_type": "execute_result"
    }
   ],
   "source": [
    "student"
   ]
  },
  {
   "cell_type": "code",
   "execution_count": 29,
   "id": "c84b2606",
   "metadata": {},
   "outputs": [],
   "source": [
    "student = student.items()"
   ]
  },
  {
   "cell_type": "code",
   "execution_count": 30,
   "id": "ff3789d9",
   "metadata": {},
   "outputs": [
    {
     "data": {
      "text/plain": [
       "dict_items([('name', 'alkesh'), ('result', 'pass'), ('year', '2023')])"
      ]
     },
     "execution_count": 30,
     "metadata": {},
     "output_type": "execute_result"
    }
   ],
   "source": [
    "student"
   ]
  },
  {
   "cell_type": "markdown",
   "id": "eddc854b-26c3-4cd7-abe7-bc1dbf1017f0",
   "metadata": {},
   "source": [
    "# SETDEFAULT\n",
    "*The setdefault() method returns the value of the specified key.if the key does not exist: insert the key, with the specified value"
   ]
  },
  {
   "cell_type": "code",
   "execution_count": 40,
   "id": "3ec582f3",
   "metadata": {},
   "outputs": [],
   "source": [
    "student = {'name':'alkesh',\n",
    "           'result':'pass',\n",
    "           'year':'2023'\n",
    "          }"
   ]
  },
  {
   "cell_type": "code",
   "execution_count": 41,
   "id": "a3447600",
   "metadata": {},
   "outputs": [
    {
     "data": {
      "text/plain": [
       "{'name': 'alkesh', 'result': 'pass', 'year': '2023'}"
      ]
     },
     "execution_count": 41,
     "metadata": {},
     "output_type": "execute_result"
    }
   ],
   "source": [
    "student"
   ]
  },
  {
   "cell_type": "code",
   "execution_count": 42,
   "id": "3b8ac9d1",
   "metadata": {},
   "outputs": [],
   "source": [
    "student = student.setdefault('name','kunal')"
   ]
  },
  {
   "cell_type": "code",
   "execution_count": 43,
   "id": "ee5d44f4",
   "metadata": {},
   "outputs": [
    {
     "data": {
      "text/plain": [
       "'alkesh'"
      ]
     },
     "execution_count": 43,
     "metadata": {},
     "output_type": "execute_result"
    }
   ],
   "source": [
    "student"
   ]
  },
  {
   "cell_type": "markdown",
   "id": "ad564218",
   "metadata": {},
   "source": [
    "# UPDATE\n",
    "The updates () mothod updates the dictionary with the specified key-values pairs."
   ]
  },
  {
   "cell_type": "code",
   "execution_count": 45,
   "id": "42e667b4",
   "metadata": {},
   "outputs": [],
   "source": [
    "student = {'name':'alkesh',\n",
    "           'result':'pass',\n",
    "           'year':'2023'\n",
    "          }"
   ]
  },
  {
   "cell_type": "code",
   "execution_count": 46,
   "id": "5a35d3f6",
   "metadata": {},
   "outputs": [
    {
     "data": {
      "text/plain": [
       "{'name': 'alkesh', 'result': 'pass', 'year': '2023'}"
      ]
     },
     "execution_count": 46,
     "metadata": {},
     "output_type": "execute_result"
    }
   ],
   "source": [
    "student"
   ]
  },
  {
   "cell_type": "code",
   "execution_count": 47,
   "id": "d7d946db",
   "metadata": {},
   "outputs": [],
   "source": [
    "student.update({'surname':'dube'})"
   ]
  },
  {
   "cell_type": "code",
   "execution_count": 48,
   "id": "3f2ed46d",
   "metadata": {},
   "outputs": [
    {
     "data": {
      "text/plain": [
       "{'name': 'alkesh', 'result': 'pass', 'year': '2023', 'surname': 'dube'}"
      ]
     },
     "execution_count": 48,
     "metadata": {},
     "output_type": "execute_result"
    }
   ],
   "source": [
    "student"
   ]
  },
  {
   "cell_type": "markdown",
   "id": "f94a2fe0",
   "metadata": {},
   "source": [
    "# CLEAR\n",
    "the clear() method removes all the element from a dictionary"
   ]
  },
  {
   "cell_type": "code",
   "execution_count": 49,
   "id": "b261cb0f",
   "metadata": {},
   "outputs": [],
   "source": [
    "student = {'name':'alkesh',\n",
    "           'result':'pass',\n",
    "           'year':'2023'\n",
    "          }"
   ]
  },
  {
   "cell_type": "code",
   "execution_count": 50,
   "id": "dca830cd",
   "metadata": {},
   "outputs": [
    {
     "data": {
      "text/plain": [
       "{'name': 'alkesh', 'result': 'pass', 'year': '2023'}"
      ]
     },
     "execution_count": 50,
     "metadata": {},
     "output_type": "execute_result"
    }
   ],
   "source": [
    "student"
   ]
  },
  {
   "cell_type": "code",
   "execution_count": 51,
   "id": "51091e24",
   "metadata": {},
   "outputs": [],
   "source": [
    "student.clear()"
   ]
  },
  {
   "cell_type": "code",
   "execution_count": 52,
   "id": "9912b316",
   "metadata": {},
   "outputs": [
    {
     "data": {
      "text/plain": [
       "{}"
      ]
     },
     "execution_count": 52,
     "metadata": {},
     "output_type": "execute_result"
    }
   ],
   "source": [
    "student"
   ]
  },
  {
   "cell_type": "code",
   "execution_count": null,
   "id": "9bffbb09",
   "metadata": {},
   "outputs": [],
   "source": []
  },
  {
   "cell_type": "code",
   "execution_count": null,
   "id": "ee426936-0ef2-431d-8bb2-dea098df07c9",
   "metadata": {},
   "outputs": [],
   "source": []
  }
 ],
 "metadata": {
  "kernelspec": {
   "display_name": "Python 3 (ipykernel)",
   "language": "python",
   "name": "python3"
  },
  "language_info": {
   "codemirror_mode": {
    "name": "ipython",
    "version": 3
   },
   "file_extension": ".py",
   "mimetype": "text/x-python",
   "name": "python",
   "nbconvert_exporter": "python",
   "pygments_lexer": "ipython3",
   "version": "3.12.2"
  }
 },
 "nbformat": 4,
 "nbformat_minor": 5
}
